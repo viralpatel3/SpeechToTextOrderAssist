{
 "cells": [
  {
   "cell_type": "code",
   "execution_count": 1,
   "metadata": {},
   "outputs": [],
   "source": [
    "# !pip install --upgrade google-cloud-speech"
   ]
  },
  {
   "cell_type": "code",
   "execution_count": 3,
   "metadata": {},
   "outputs": [],
   "source": [
    "# !pip install rasa_nlu"
   ]
  },
  {
   "cell_type": "code",
   "execution_count": 8,
   "metadata": {},
   "outputs": [],
   "source": [
    "# !pip install wit"
   ]
  },
  {
   "cell_type": "code",
   "execution_count": 70,
   "metadata": {},
   "outputs": [
    {
     "name": "stdout",
     "output_type": "stream",
     "text": [
      "Collecting google.cloud\n",
      "  Using cached https://files.pythonhosted.org/packages/ba/b1/7c54d1950e7808df06642274e677dbcedba57f75307adf2e5ad8d39e5e0e/google_cloud-0.34.0-py2.py3-none-any.whl\n",
      "Installing collected packages: google.cloud\n",
      "Successfully installed google.cloud\n"
     ]
    }
   ],
   "source": [
    "# !pip install --upgrade google.cloud"
   ]
  },
  {
   "cell_type": "code",
   "execution_count": 30,
   "metadata": {},
   "outputs": [
    {
     "name": "stdout",
     "output_type": "stream",
     "text": [
      "Collecting google-cloud-language\n",
      "  Downloading https://files.pythonhosted.org/packages/ba/b8/965a97ba60287910d342623da1da615254bded3e0965728cf7fc6339b7c8/google_cloud_language-1.3.0-py2.py3-none-any.whl (83kB)\n",
      "Requirement already satisfied, skipping upgrade: google-api-core[grpc]<2.0.0dev,>=1.14.0 in c:\\users\\risha\\anaconda3\\lib\\site-packages (from google-cloud-language) (1.14.3)\n",
      "Requirement already satisfied, skipping upgrade: pytz in c:\\users\\risha\\anaconda3\\lib\\site-packages (from google-api-core[grpc]<2.0.0dev,>=1.14.0->google-cloud-language) (2018.7)\n",
      "Requirement already satisfied, skipping upgrade: setuptools>=34.0.0 in c:\\users\\risha\\anaconda3\\lib\\site-packages (from google-api-core[grpc]<2.0.0dev,>=1.14.0->google-cloud-language) (41.4.0)\n",
      "Requirement already satisfied, skipping upgrade: protobuf>=3.4.0 in c:\\users\\risha\\anaconda3\\lib\\site-packages (from google-api-core[grpc]<2.0.0dev,>=1.14.0->google-cloud-language) (3.10.0)\n",
      "Requirement already satisfied, skipping upgrade: requests<3.0.0dev,>=2.18.0 in c:\\users\\risha\\anaconda3\\lib\\site-packages (from google-api-core[grpc]<2.0.0dev,>=1.14.0->google-cloud-language) (2.21.0)\n",
      "Requirement already satisfied, skipping upgrade: six>=1.10.0 in c:\\users\\risha\\anaconda3\\lib\\site-packages (from google-api-core[grpc]<2.0.0dev,>=1.14.0->google-cloud-language) (1.12.0)\n",
      "Requirement already satisfied, skipping upgrade: google-auth<2.0dev,>=0.4.0 in c:\\users\\risha\\anaconda3\\lib\\site-packages (from google-api-core[grpc]<2.0.0dev,>=1.14.0->google-cloud-language) (1.6.3)\n",
      "Requirement already satisfied, skipping upgrade: googleapis-common-protos<2.0dev,>=1.6.0 in c:\\users\\risha\\anaconda3\\lib\\site-packages (from google-api-core[grpc]<2.0.0dev,>=1.14.0->google-cloud-language) (1.6.0)\n",
      "Requirement already satisfied, skipping upgrade: grpcio<2.0dev,>=1.8.2; extra == \"grpc\" in c:\\users\\risha\\anaconda3\\lib\\site-packages (from google-api-core[grpc]<2.0.0dev,>=1.14.0->google-cloud-language) (1.24.1)\n",
      "Requirement already satisfied, skipping upgrade: certifi>=2017.4.17 in c:\\users\\risha\\anaconda3\\lib\\site-packages (from requests<3.0.0dev,>=2.18.0->google-api-core[grpc]<2.0.0dev,>=1.14.0->google-cloud-language) (2018.11.29)\n",
      "Requirement already satisfied, skipping upgrade: chardet<3.1.0,>=3.0.2 in c:\\users\\risha\\anaconda3\\lib\\site-packages (from requests<3.0.0dev,>=2.18.0->google-api-core[grpc]<2.0.0dev,>=1.14.0->google-cloud-language) (3.0.4)\n",
      "Requirement already satisfied, skipping upgrade: idna<2.9,>=2.5 in c:\\users\\risha\\anaconda3\\lib\\site-packages (from requests<3.0.0dev,>=2.18.0->google-api-core[grpc]<2.0.0dev,>=1.14.0->google-cloud-language) (2.8)\n",
      "Requirement already satisfied, skipping upgrade: urllib3<1.25,>=1.21.1 in c:\\users\\risha\\anaconda3\\lib\\site-packages (from requests<3.0.0dev,>=2.18.0->google-api-core[grpc]<2.0.0dev,>=1.14.0->google-cloud-language) (1.24.1)\n",
      "Requirement already satisfied, skipping upgrade: rsa>=3.1.4 in c:\\users\\risha\\anaconda3\\lib\\site-packages (from google-auth<2.0dev,>=0.4.0->google-api-core[grpc]<2.0.0dev,>=1.14.0->google-cloud-language) (4.0)\n",
      "Requirement already satisfied, skipping upgrade: pyasn1-modules>=0.2.1 in c:\\users\\risha\\anaconda3\\lib\\site-packages (from google-auth<2.0dev,>=0.4.0->google-api-core[grpc]<2.0.0dev,>=1.14.0->google-cloud-language) (0.2.6)\n",
      "Requirement already satisfied, skipping upgrade: cachetools>=2.0.0 in c:\\users\\risha\\anaconda3\\lib\\site-packages (from google-auth<2.0dev,>=0.4.0->google-api-core[grpc]<2.0.0dev,>=1.14.0->google-cloud-language) (3.1.1)\n",
      "Requirement already satisfied, skipping upgrade: pyasn1>=0.1.3 in c:\\users\\risha\\anaconda3\\lib\\site-packages (from rsa>=3.1.4->google-auth<2.0dev,>=0.4.0->google-api-core[grpc]<2.0.0dev,>=1.14.0->google-cloud-language) (0.4.6)\n",
      "Installing collected packages: google-cloud-language\n",
      "Successfully installed google-cloud-language-1.3.0\n"
     ]
    }
   ],
   "source": [
    "# !pip install --upgrade google-cloud-language"
   ]
  },
  {
   "cell_type": "code",
   "execution_count": 60,
   "metadata": {},
   "outputs": [
    {
     "name": "stdout",
     "output_type": "stream",
     "text": [
      "Collecting setuptools\n",
      "  Downloading https://files.pythonhosted.org/packages/6a/9a/50fadfd53ec909e4399b67c74cc7f4e883488035cfcdb90b685758fa8b34/setuptools-41.4.0-py2.py3-none-any.whl (580kB)\n",
      "Collecting pip\n",
      "  Downloading https://files.pythonhosted.org/packages/00/b6/9cfa56b4081ad13874b0c6f96af8ce16cfbc1cb06bedf8e9164ce5551ec1/pip-19.3.1-py2.py3-none-any.whl (1.4MB)\n",
      "Installing collected packages: setuptools, pip\n",
      "  Found existing installation: setuptools 40.6.3\n",
      "    Uninstalling setuptools-40.6.3:\n",
      "      Successfully uninstalled setuptools-40.6.3\n",
      "  Found existing installation: pip 18.1\n",
      "    Uninstalling pip-18.1:\n",
      "      Successfully uninstalled pip-18.1\n"
     ]
    },
    {
     "name": "stderr",
     "output_type": "stream",
     "text": [
      "Could not install packages due to an EnvironmentError: [WinError 5] Access is denied: 'C:\\\\Users\\\\risha\\\\AppData\\\\Local\\\\Temp\\\\pip-uninstall-f88009si\\\\users\\\\risha\\\\anaconda3\\\\scripts\\\\pip.exe'\n",
      "Consider using the `--user` option or check the permissions.\n",
      "\n"
     ]
    }
   ],
   "source": [
    "# !pip install --upgrade setuptools pip"
   ]
  },
  {
   "cell_type": "markdown",
   "metadata": {},
   "source": [
    "# Libraries"
   ]
  },
  {
   "cell_type": "code",
   "execution_count": 344,
   "metadata": {},
   "outputs": [],
   "source": [
    "import pandas as pd\n",
    "import numpy as np\n",
    "import random\n",
    "import matplotlib.pyplot as plt\n",
    "import math\n",
    "import seaborn as sns\n",
    "from sklearn.utils import shuffle\n",
    "import sklearn.linear_model as Lm\n",
    "from sklearn.linear_model import LinearRegression as Lr\n",
    "from sklearn.metrics import mean_squared_error\n",
    "from sklearn.linear_model import LogisticRegression\n",
    "from sklearn.linear_model import Perceptron\n",
    "import requests\n",
    "import io\n",
    "import os\n",
    "from google.cloud import speech\n",
    "from google.cloud.speech import enums as enums1\n",
    "from google.cloud.speech import types\n",
    "from rasa_nlu.model import Metadata, Interpreter\n",
    "from wit import Wit\n",
    "import json\n",
    "from google.cloud import language_v1\n",
    "from google.cloud.language_v1 import enums\n",
    "from nltk import tokenize\n",
    "from nltk.stem import PorterStemmer"
   ]
  },
  {
   "cell_type": "code",
   "execution_count": 320,
   "metadata": {},
   "outputs": [],
   "source": [
    "te = getTextFromAudio(\"Demo_5.flac\")"
   ]
  },
  {
   "cell_type": "code",
   "execution_count": 321,
   "metadata": {},
   "outputs": [
    {
     "data": {
      "text/plain": [
       "'Can I order a burger and fries I would like to order one large pizza and one soda, I would like to get a coffee to all right, I would like to order one cheeseburger and 5 price and Treecko and 7 Sandwich one go to.'"
      ]
     },
     "execution_count": 321,
     "metadata": {},
     "output_type": "execute_result"
    }
   ],
   "source": [
    "te"
   ]
  },
  {
   "cell_type": "code",
   "execution_count": 260,
   "metadata": {},
   "outputs": [
    {
     "data": {
      "text/plain": [
       "' I would like to order one cheeseburger and 5 price and Treecko and 7 Sandwich one go to'"
      ]
     },
     "execution_count": 260,
     "metadata": {},
     "output_type": "execute_result"
    }
   ],
   "source": [
    "te1 = te.replace(\",\",\".\")\n",
    "te1 = te1.split(\".\")\n",
    "te1[2]"
   ]
  },
  {
   "cell_type": "code",
   "execution_count": 317,
   "metadata": {},
   "outputs": [],
   "source": [
    "def getTextFromAudio(filename):\n",
    "    client = speech.SpeechClient()\n",
    "\n",
    "    file_name = os.path.join('Audio Files',filename)\n",
    "\n",
    "    with io.open(file_name, 'rb') as audio_file:\n",
    "        content = audio_file.read()\n",
    "        audio = types.RecognitionAudio(content=content)\n",
    "\n",
    "    config = types.RecognitionConfig(\n",
    "        enable_automatic_punctuation = True,\n",
    "        encoding=enums1.RecognitionConfig.AudioEncoding.FLAC,\n",
    "        sample_rate_hertz=16000,\n",
    "        language_code='en-US')\n",
    "\n",
    "    response = client.recognize(config, audio)\n",
    "\n",
    "    for result in response.results:\n",
    "        return result.alternatives[0].transcript"
   ]
  },
  {
   "cell_type": "code",
   "execution_count": 151,
   "metadata": {},
   "outputs": [],
   "source": [
    "def analyze_entities(text_content):\n",
    "    client = language_v1.LanguageServiceClient()\n",
    "    type_ = enums.Document.Type.PLAIN_TEXT\n",
    "    language = \"en\"\n",
    "    document = {\"content\": text_content, \"type\": type_, \"language\": language}\n",
    "    encoding_type = enums.EncodingType.UTF8\n",
    "    response = client.analyze_entities(document, encoding_type=encoding_type)\n",
    "    words = text_content.split(\" \")\n",
    "    d = {}\n",
    "    for i in words:\n",
    "        d[i] = -1\n",
    "        \n",
    "    for entity in response.entities:\n",
    "        for mention in entity.mentions:\n",
    "            if (enums.Entity.Type(entity.type).name != \"NUMBER\"):\n",
    "                d[entity.name] = enums.EntityMention.Type(mention.type).name\n",
    "            else:\n",
    "                d[entity.name] = entity.metadata['value']\n",
    "    return d\n"
   ]
  },
  {
   "cell_type": "code",
   "execution_count": 338,
   "metadata": {},
   "outputs": [
    {
     "name": "stdout",
     "output_type": "stream",
     "text": [
      "Add three Quesadilla\n"
     ]
    },
    {
     "data": {
      "text/plain": [
       "'Add'"
      ]
     },
     "execution_count": 338,
     "metadata": {},
     "output_type": "execute_result"
    }
   ],
   "source": [
    "b = MakeMenu(Database)\n",
    "b.getIntent(\"Add three Quesadilla\")"
   ]
  },
  {
   "cell_type": "code",
   "execution_count": 152,
   "metadata": {},
   "outputs": [
    {
     "data": {
      "text/plain": [
       "{'hi': -1,\n",
       " 'I': -1,\n",
       " 'would': -1,\n",
       " 'like': -1,\n",
       " 'to': -1,\n",
       " 'order': -1,\n",
       " 'one': '1',\n",
       " 'burger': 'COMMON',\n",
       " 'and': -1,\n",
       " '5': '5',\n",
       " 'fries': 'COMMON',\n",
       " '3': '3',\n",
       " 'coke': 'COMMON',\n",
       " '7': '7',\n",
       " 'zip': 'COMMON'}"
      ]
     },
     "execution_count": 152,
     "metadata": {},
     "output_type": "execute_result"
    }
   ],
   "source": [
    "analyze_entities(\"hi I would like to order one burger and 5 fries and 3 coke and 7 zip\")"
   ]
  },
  {
   "cell_type": "code",
   "execution_count": 147,
   "metadata": {},
   "outputs": [],
   "source": [
    "from google.cloud import language_v1\n",
    "from google.cloud.language_v1 import enums\n",
    "\n",
    "\n",
    "def sample_analyze_entities(text_content):\n",
    "    \"\"\"\n",
    "    Analyzing Entities in a String\n",
    "\n",
    "    Args:\n",
    "      text_content The text content to analyze\n",
    "    \"\"\"\n",
    "\n",
    "    client = language_v1.LanguageServiceClient()\n",
    "\n",
    "    # text_content = 'California is a state.'\n",
    "\n",
    "    # Available types: PLAIN_TEXT, HTML\n",
    "    type_ = enums.Document.Type.PLAIN_TEXT\n",
    "\n",
    "    # Optional. If not specified, the language is automatically detected.\n",
    "    # For list of supported languages:\n",
    "    # https://cloud.google.com/natural-language/docs/languages\n",
    "    language = \"en\"\n",
    "    document = {\"content\": text_content, \"type\": type_, \"language\": language}\n",
    "\n",
    "    # Available values: NONE, UTF8, UTF16, UTF32\n",
    "    encoding_type = enums.EncodingType.UTF8\n",
    "\n",
    "    response = client.analyze_entities(document, encoding_type=encoding_type)\n",
    "    # Loop through entitites returned from the API\n",
    "    for entity in response.entities:\n",
    "        print(u\"Representative name for the entity: {}\".format(entity.name))\n",
    "        # Get entity type, e.g. PERSON, LOCATION, ADDRESS, NUMBER, et al\n",
    "        print(u\"Entity type: {}\".format(enums.Entity.Type(entity.type).name))\n",
    "        # Get the salience score associated with the entity in the [0, 1.0] range\n",
    "        print(u\"Salience score: {}\".format(entity.salience))\n",
    "        # Loop over the metadata associated with entity. For many known entities,\n",
    "        # the metadata is a Wikipedia URL (wikipedia_url) and Knowledge Graph MID (mid).\n",
    "        # Some entity types may have additional metadata, e.g. ADDRESS entities\n",
    "        # may have metadata for the address street_name, postal_code, et al.\n",
    "        if len(entity.metadata) > 0:\n",
    "            print(entity.metadata['value'])\n",
    "\n",
    "        # Loop over the mentions of this entity in the input document.\n",
    "        # The API currently supports proper noun mentions.\n",
    "        for mention in entity.mentions:\n",
    "            print(u\"Mention text: {}\".format(mention.text.content))\n",
    "            # Get the mention type, e.g. PROPER for proper noun\n",
    "            print(\n",
    "                u\"Mention type: {}\".format(enums.EntityMention.Type(mention.type).name)\n",
    "            )\n",
    "\n",
    "    # Get the language of the text, which will be the same as\n",
    "    # the language specified in the request or, if not specified,\n",
    "    # the automatically-detected language.\n",
    "    print(u\"Language of the text: {}\".format(response.language))\n"
   ]
  },
  {
   "cell_type": "code",
   "execution_count": 357,
   "metadata": {},
   "outputs": [],
   "source": [
    "Database = {\n",
    "    'coffee' : 5,\n",
    "    'tea' : 5,\n",
    "    'burger' : 10,\n",
    "    'sandwich' : 5,\n",
    "    'pizza' : 10,\n",
    "    'soda' : 3,\n",
    "    'fries' : 4.5,\n",
    "    'coke' : 3,\n",
    "    'burritos' : 10,\n",
    "    'nachos' : 5,\n",
    "    'quesadilla' : 6.5\n",
    "}"
   ]
  },
  {
   "cell_type": "code",
   "execution_count": 354,
   "metadata": {},
   "outputs": [],
   "source": [
    "class MakeMenu:\n",
    "    \n",
    "    def __init__(self, database):\n",
    "        self.menu = {}\n",
    "        self.WitClient = Wit(\"QIPH5735KKLG3SRKLW6ULLPAA3FCYYIS\")\n",
    "        self.database = database\n",
    "        self.porter = PorterStemmer()\n",
    "    \n",
    "    def generateMenu(self, sentences):\n",
    "        mainMenu = {}\n",
    "        for i in sentences:\n",
    "            if (len(i) < 2):\n",
    "                continue\n",
    "            i = i.lower()\n",
    "            intent = self.getIntent(i)\n",
    "            oneMenu = self.generateOneMenu(i)\n",
    "            print(mainMenu)\n",
    "            if (intent == 'Add'):\n",
    "                for i in oneMenu:\n",
    "                    if (i in mainMenu):\n",
    "                        mainMenu[i] += oneMenu[i]\n",
    "                    else:\n",
    "                        mainMenu[i] = oneMenu[i]\n",
    "            elif (intent == 'Delete'):\n",
    "                for i in oneMenu:\n",
    "                    if (i in mainMenu):\n",
    "                        mainMenu[i] -= oneMenu[i]\n",
    "            \n",
    "        receipt = []\n",
    "        for i in mainMenu:\n",
    "            if i not in self.database:\n",
    "                continue\n",
    "            temp = []\n",
    "            temp.append(i)\n",
    "            temp.append(mainMenu[i])\n",
    "            temp.append(self.database[i])\n",
    "            receipt.append(temp)\n",
    "        FinalMenu = pd.DataFrame(receipt)\n",
    "        FinalMenu.columns = ['Item', 'Quantity', 'Price']\n",
    "        return FinalMenu\n",
    "                \n",
    "        \n",
    "    def generateOneMenu(self, sentence):\n",
    "        oneMenu = {}\n",
    "        words, d = self.analyze_entities(sentence)\n",
    "        for i in range(len(words)):\n",
    "            if d[words[i]] == 'COMMON':\n",
    "                quant = 1\n",
    "                if (i != 0 and (str(d[words[i-1]]).isdigit()) and d[words[i-1]] != -1):\n",
    "                    quant = d[words[i-1]]\n",
    "                oneMenu[words[i]] = quant\n",
    "        print(d)\n",
    "        return oneMenu\n",
    "        \n",
    "        \n",
    "    def getIntent(self, sentence):\n",
    "        resp = self.WitClient.message(sentence)   \n",
    "        print(sentence)\n",
    "        return resp['entities']['intent'][0]['value']\n",
    "    \n",
    "    def analyze_entities(self, sentence):\n",
    "        client = language_v1.LanguageServiceClient()\n",
    "        type_ = enums.Document.Type.PLAIN_TEXT\n",
    "        language = \"en\"\n",
    "        sentence = sentence.split(\" \")\n",
    "        for i in range(len(sentence)):\n",
    "            sentence[i] = sentence[i].lower()\n",
    "        sentence = \" \".join(sentence)\n",
    "        document = {\"content\": sentence, \"type\": type_, \"language\": language}\n",
    "        encoding_type = enums.EncodingType.UTF8\n",
    "        response = client.analyze_entities(document, encoding_type=encoding_type)\n",
    "        words = sentence.split(\" \")\n",
    "        for i in range(len(words)):\n",
    "            words[i] = words[i].lower()\n",
    "        d = {}\n",
    "        for i in words:\n",
    "            d[i] = -1\n",
    "\n",
    "        for entity in response.entities:\n",
    "            for mention in entity.mentions:\n",
    "                if (enums.Entity.Type(entity.type).name != \"NUMBER\"):\n",
    "                    d[entity.name.lower()] = enums.EntityMention.Type(mention.type).name\n",
    "                else:\n",
    "                    d[entity.name] = int(entity.metadata['value'])\n",
    "        return words, d\n",
    "\n",
    "        "
   ]
  },
  {
   "cell_type": "code",
   "execution_count": 309,
   "metadata": {},
   "outputs": [],
   "source": [
    "senten = []\n",
    "senten.append('Can i order five Burger and fries')\n",
    "senten.append('I would like to order one large pizza and one soda')\n",
    "senten.append('Please remove the burger from my order')\n",
    "senten.append('I Would like to get a coffee too')\n",
    "senten.append('hi I would like to order one cheese burger and 5 fries and 3 coke and 7 sandwich')\n",
    "senten.append('Remove one coke too')"
   ]
  },
  {
   "cell_type": "code",
   "execution_count": 322,
   "metadata": {},
   "outputs": [
    {
     "name": "stdout",
     "output_type": "stream",
     "text": [
      "{}\n",
      "{'burger': 5, 'fries': 1}\n",
      "{'burger': 5, 'fries': 1, 'pizza': 1, 'soda': 1}\n",
      "{'burger': 4, 'fries': 1, 'pizza': 1, 'soda': 1}\n",
      "{'burger': 4, 'fries': 1, 'pizza': 1, 'soda': 1, 'coffee': 1}\n",
      "{'burger': 4, 'fries': 6, 'pizza': 1, 'soda': 1, 'coffee': 1, 'coke': 3, 'sandwich': 7}\n"
     ]
    },
    {
     "data": {
      "text/html": [
       "<div>\n",
       "<style scoped>\n",
       "    .dataframe tbody tr th:only-of-type {\n",
       "        vertical-align: middle;\n",
       "    }\n",
       "\n",
       "    .dataframe tbody tr th {\n",
       "        vertical-align: top;\n",
       "    }\n",
       "\n",
       "    .dataframe thead th {\n",
       "        text-align: right;\n",
       "    }\n",
       "</style>\n",
       "<table border=\"1\" class=\"dataframe\">\n",
       "  <thead>\n",
       "    <tr style=\"text-align: right;\">\n",
       "      <th></th>\n",
       "      <th>Item</th>\n",
       "      <th>Quantity</th>\n",
       "      <th>Price</th>\n",
       "    </tr>\n",
       "  </thead>\n",
       "  <tbody>\n",
       "    <tr>\n",
       "      <th>0</th>\n",
       "      <td>burger</td>\n",
       "      <td>4</td>\n",
       "      <td>10.0</td>\n",
       "    </tr>\n",
       "    <tr>\n",
       "      <th>1</th>\n",
       "      <td>fries</td>\n",
       "      <td>6</td>\n",
       "      <td>4.5</td>\n",
       "    </tr>\n",
       "    <tr>\n",
       "      <th>2</th>\n",
       "      <td>pizza</td>\n",
       "      <td>1</td>\n",
       "      <td>10.0</td>\n",
       "    </tr>\n",
       "    <tr>\n",
       "      <th>3</th>\n",
       "      <td>soda</td>\n",
       "      <td>1</td>\n",
       "      <td>3.0</td>\n",
       "    </tr>\n",
       "    <tr>\n",
       "      <th>4</th>\n",
       "      <td>coffee</td>\n",
       "      <td>1</td>\n",
       "      <td>5.0</td>\n",
       "    </tr>\n",
       "    <tr>\n",
       "      <th>5</th>\n",
       "      <td>coke</td>\n",
       "      <td>2</td>\n",
       "      <td>3.0</td>\n",
       "    </tr>\n",
       "    <tr>\n",
       "      <th>6</th>\n",
       "      <td>sandwich</td>\n",
       "      <td>7</td>\n",
       "      <td>5.0</td>\n",
       "    </tr>\n",
       "  </tbody>\n",
       "</table>\n",
       "</div>"
      ],
      "text/plain": [
       "       Item  Quantity  Price\n",
       "0    burger         4   10.0\n",
       "1     fries         6    4.5\n",
       "2     pizza         1   10.0\n",
       "3      soda         1    3.0\n",
       "4    coffee         1    5.0\n",
       "5      coke         2    3.0\n",
       "6  sandwich         7    5.0"
      ]
     },
     "execution_count": 322,
     "metadata": {},
     "output_type": "execute_result"
    }
   ],
   "source": [
    "a = MakeMenu(Database)\n",
    "menu = a.generateMenu(senten)\n",
    "menu"
   ]
  },
  {
   "cell_type": "code",
   "execution_count": 323,
   "metadata": {},
   "outputs": [
    {
     "name": "stdout",
     "output_type": "stream",
     "text": [
      "       Item  Quantity  Price\n",
      "0    burger         4   10.0\n",
      "1     fries         6    4.5\n",
      "2     pizza         1   10.0\n",
      "3      soda         1    3.0\n",
      "4    coffee         1    5.0\n",
      "5      coke         2    3.0\n",
      "6  sandwich         7    5.0\n",
      "Total Number of Items: 22\n",
      "Total Price: 40.5\n"
     ]
    }
   ],
   "source": [
    "print(menu)\n",
    "print('Total Number of Items:', menu['Quantity'].sum())\n",
    "print('Total Price:', menu['Price'].sum())"
   ]
  },
  {
   "cell_type": "code",
   "execution_count": 355,
   "metadata": {},
   "outputs": [],
   "source": [
    "senten2 = []\n",
    "senten2.append('Can i get two burritos and nachos on side')\n",
    "senten2.append('Add 3 Quesadilla')\n",
    "senten2.append('Remove 1 burritos')\n",
    "senten2.append('Can i also get three coke')"
   ]
  },
  {
   "cell_type": "code",
   "execution_count": 358,
   "metadata": {},
   "outputs": [
    {
     "name": "stdout",
     "output_type": "stream",
     "text": [
      "can i get two burritos and nachos on side\n",
      "{'can': -1, 'i': -1, 'get': -1, 'two': 2, 'burritos': 'COMMON', 'and': -1, 'nachos': 'COMMON', 'on': -1, 'side': 'COMMON'}\n",
      "{}\n",
      "add 3 quesadilla\n",
      "{'add': -1, '3': 3, 'quesadilla': 'COMMON'}\n",
      "{'burritos': 2, 'nachos': 1, 'side': 1}\n",
      "remove 1 burritos\n",
      "{'remove': -1, '1': 1, 'burritos': 'COMMON'}\n",
      "{'burritos': 2, 'nachos': 1, 'side': 1, 'quesadilla': 3}\n",
      "can i also get three coke\n",
      "{'can': -1, 'i': -1, 'also': -1, 'get': -1, 'three': 3, 'coke': 'COMMON'}\n",
      "{'burritos': 1, 'nachos': 1, 'side': 1, 'quesadilla': 3}\n"
     ]
    },
    {
     "data": {
      "text/html": [
       "<div>\n",
       "<style scoped>\n",
       "    .dataframe tbody tr th:only-of-type {\n",
       "        vertical-align: middle;\n",
       "    }\n",
       "\n",
       "    .dataframe tbody tr th {\n",
       "        vertical-align: top;\n",
       "    }\n",
       "\n",
       "    .dataframe thead th {\n",
       "        text-align: right;\n",
       "    }\n",
       "</style>\n",
       "<table border=\"1\" class=\"dataframe\">\n",
       "  <thead>\n",
       "    <tr style=\"text-align: right;\">\n",
       "      <th></th>\n",
       "      <th>Item</th>\n",
       "      <th>Quantity</th>\n",
       "      <th>Price</th>\n",
       "    </tr>\n",
       "  </thead>\n",
       "  <tbody>\n",
       "    <tr>\n",
       "      <th>0</th>\n",
       "      <td>burritos</td>\n",
       "      <td>1</td>\n",
       "      <td>10.0</td>\n",
       "    </tr>\n",
       "    <tr>\n",
       "      <th>1</th>\n",
       "      <td>nachos</td>\n",
       "      <td>1</td>\n",
       "      <td>5.0</td>\n",
       "    </tr>\n",
       "    <tr>\n",
       "      <th>2</th>\n",
       "      <td>quesadilla</td>\n",
       "      <td>3</td>\n",
       "      <td>6.5</td>\n",
       "    </tr>\n",
       "    <tr>\n",
       "      <th>3</th>\n",
       "      <td>coke</td>\n",
       "      <td>3</td>\n",
       "      <td>3.0</td>\n",
       "    </tr>\n",
       "  </tbody>\n",
       "</table>\n",
       "</div>"
      ],
      "text/plain": [
       "         Item  Quantity  Price\n",
       "0    burritos         1   10.0\n",
       "1      nachos         1    5.0\n",
       "2  quesadilla         3    6.5\n",
       "3        coke         3    3.0"
      ]
     },
     "execution_count": 358,
     "metadata": {},
     "output_type": "execute_result"
    }
   ],
   "source": [
    "b = MakeMenu(Database)\n",
    "menu = b.generateMenu(senten2)\n",
    "menu"
   ]
  }
 ],
 "metadata": {
  "kernelspec": {
   "display_name": "Python 3",
   "language": "python",
   "name": "python3"
  },
  "language_info": {
   "codemirror_mode": {
    "name": "ipython",
    "version": 3
   },
   "file_extension": ".py",
   "mimetype": "text/x-python",
   "name": "python",
   "nbconvert_exporter": "python",
   "pygments_lexer": "ipython3",
   "version": "3.7.1"
  }
 },
 "nbformat": 4,
 "nbformat_minor": 2
}
